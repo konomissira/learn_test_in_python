{
 "cells": [
  {
   "cell_type": "markdown",
   "id": "9d469ed5-aed0-431b-ad8d-c277b9349a2c",
   "metadata": {},
   "source": [
    "# Subtract two numbers\n",
    "\n",
    "## Problem\n",
    "\n",
    "### Subtract two numbers"
   ]
  },
  {
   "cell_type": "code",
   "execution_count": 1,
   "id": "d6481a90-6512-4186-a979-606e7b02b296",
   "metadata": {},
   "outputs": [],
   "source": [
    "def solution(num1, num2):\n",
    "    return num1 - num2"
   ]
  },
  {
   "cell_type": "code",
   "execution_count": 3,
   "id": "a6ce6137-08db-4413-8e52-1d9ebd88766a",
   "metadata": {},
   "outputs": [
    {
     "name": "stdout",
     "output_type": "stream",
     "text": [
      "Collecting nose\n",
      "  Downloading nose-1.3.7-py3-none-any.whl.metadata (1.7 kB)\n",
      "Downloading nose-1.3.7-py3-none-any.whl (154 kB)\n",
      "\u001b[2K   \u001b[90m━━━━━━━━━━━━━━━━━━━━━━━━━━━━━━━━━━━━━━━━\u001b[0m \u001b[32m154.7/154.7 kB\u001b[0m \u001b[31m2.3 MB/s\u001b[0m eta \u001b[36m0:00:00\u001b[0m \u001b[36m0:00:01\u001b[0m\n",
      "\u001b[?25hInstalling collected packages: nose\n",
      "Successfully installed nose-1.3.7\n",
      "Note: you may need to restart the kernel to use updated packages.\n"
     ]
    }
   ],
   "source": [
    "pip install nose"
   ]
  },
  {
   "cell_type": "code",
   "execution_count": 7,
   "id": "d5a1ec6b-c593-4758-b0b9-ed5b4fea0e58",
   "metadata": {},
   "outputs": [
    {
     "ename": "NameError",
     "evalue": "name 'sol' is not defined",
     "output_type": "error",
     "traceback": [
      "\u001b[0;31m---------------------------------------------------------------------------\u001b[0m",
      "\u001b[0;31mNameError\u001b[0m                                 Traceback (most recent call last)",
      "Cell \u001b[0;32mIn[7], line 16\u001b[0m\n\u001b[1;32m     12\u001b[0m \u001b[38;5;66;03m# Run tests\u001b[39;00m\n\u001b[1;32m     14\u001b[0m t \u001b[38;5;241m=\u001b[39m SolutionTest()\n\u001b[0;32m---> 16\u001b[0m t\u001b[38;5;241m.\u001b[39mtest(sol)\n",
      "\u001b[0;31mNameError\u001b[0m: name 'sol' is not defined"
     ]
    }
   ],
   "source": [
    "from nose.tools import assert_equal\n",
    "\n",
    "class SolutionTest(object):\n",
    "\n",
    "    def test(self, sol):\n",
    "        assert_equal(sol(6, 3), 3)\n",
    "        assert_equal(sol(2, 4), -2)\n",
    "\n",
    "        print(\"All Test Cases Passed\")\n",
    "\n",
    "\n",
    "# Run tests\n",
    "\n",
    "t = SolutionTest()\n",
    "\n",
    "t.test(solution)"
   ]
  },
  {
   "cell_type": "code",
   "execution_count": null,
   "id": "c9af1c33-be43-4b81-8412-8b2a7101745c",
   "metadata": {},
   "outputs": [],
   "source": []
  }
 ],
 "metadata": {
  "kernelspec": {
   "display_name": "Python 3 (ipykernel)",
   "language": "python",
   "name": "python3"
  },
  "language_info": {
   "codemirror_mode": {
    "name": "ipython",
    "version": 3
   },
   "file_extension": ".py",
   "mimetype": "text/x-python",
   "name": "python",
   "nbconvert_exporter": "python",
   "pygments_lexer": "ipython3",
   "version": "3.11.7"
  }
 },
 "nbformat": 4,
 "nbformat_minor": 5
}
