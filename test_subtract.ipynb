{
 "cells": [
  {
   "cell_type": "markdown",
   "id": "9d469ed5-aed0-431b-ad8d-c277b9349a2c",
   "metadata": {},
   "source": [
    "# Subtract two numbers\n",
    "\n",
    "## Problem\n",
    "\n",
    "### Subtract two numbers"
   ]
  },
  {
   "cell_type": "code",
   "execution_count": 16,
   "id": "d6481a90-6512-4186-a979-606e7b02b296",
   "metadata": {},
   "outputs": [],
   "source": [
    "def solution(num1, num2):\n",
    "    return num1 - num2"
   ]
  },
  {
   "cell_type": "code",
   "execution_count": 17,
   "id": "d5a1ec6b-c593-4758-b0b9-ed5b4fea0e58",
   "metadata": {},
   "outputs": [],
   "source": [
    "from nose.tools import assert_equal\n",
    "\n",
    "class SolutionTest(object):\n",
    "\n",
    "    def test(self, sol):\n",
    "        assert_equal(sol(6, 3), 3)\n",
    "        assert_equal(sol(2, 4), -2)\n",
    "\n",
    "        print(\"All Test Cases Passed\")"
   ]
  },
  {
   "cell_type": "code",
   "execution_count": 18,
   "id": "79295dae-48e0-4765-ac6e-18dec61a4801",
   "metadata": {},
   "outputs": [
    {
     "name": "stdout",
     "output_type": "stream",
     "text": [
      "All Test Cases Passed\n"
     ]
    }
   ],
   "source": [
    "t = SolutionTest()\n",
    "\n",
    "t.test(solution)"
   ]
  },
  {
   "cell_type": "code",
   "execution_count": null,
   "id": "0863c8bf-f994-4ba5-83d0-411eb8bc31a1",
   "metadata": {},
   "outputs": [],
   "source": []
  }
 ],
 "metadata": {
  "kernelspec": {
   "display_name": "Python 3 (ipykernel)",
   "language": "python",
   "name": "python3"
  },
  "language_info": {
   "codemirror_mode": {
    "name": "ipython",
    "version": 3
   },
   "file_extension": ".py",
   "mimetype": "text/x-python",
   "name": "python",
   "nbconvert_exporter": "python",
   "pygments_lexer": "ipython3",
   "version": "3.11.7"
  }
 },
 "nbformat": 4,
 "nbformat_minor": 5
}
